{
 "cells": [
  {
   "cell_type": "code",
   "execution_count": 3,
   "metadata": {},
   "outputs": [
    {
     "data": {
      "text/html": [
       "<div>\n",
       "<style scoped>\n",
       "    .dataframe tbody tr th:only-of-type {\n",
       "        vertical-align: middle;\n",
       "    }\n",
       "\n",
       "    .dataframe tbody tr th {\n",
       "        vertical-align: top;\n",
       "    }\n",
       "\n",
       "    .dataframe thead th {\n",
       "        text-align: right;\n",
       "    }\n",
       "</style>\n",
       "<table border=\"1\" class=\"dataframe\">\n",
       "  <thead>\n",
       "    <tr style=\"text-align: right;\">\n",
       "      <th></th>\n",
       "      <th>id_batiment</th>\n",
       "      <th>nb_maisons</th>\n",
       "      <th>infra_id</th>\n",
       "      <th>infra_type</th>\n",
       "      <th>longueur</th>\n",
       "    </tr>\n",
       "  </thead>\n",
       "  <tbody>\n",
       "    <tr>\n",
       "      <th>10</th>\n",
       "      <td>E000003</td>\n",
       "      <td>1</td>\n",
       "      <td>P007113</td>\n",
       "      <td>a_remplacer</td>\n",
       "      <td>12.193509</td>\n",
       "    </tr>\n",
       "    <tr>\n",
       "      <th>11</th>\n",
       "      <td>E000003</td>\n",
       "      <td>1</td>\n",
       "      <td>P007984</td>\n",
       "      <td>a_remplacer</td>\n",
       "      <td>30.057598</td>\n",
       "    </tr>\n",
       "    <tr>\n",
       "      <th>12</th>\n",
       "      <td>E000003</td>\n",
       "      <td>1</td>\n",
       "      <td>P007823</td>\n",
       "      <td>a_remplacer</td>\n",
       "      <td>12.290283</td>\n",
       "    </tr>\n",
       "    <tr>\n",
       "      <th>465</th>\n",
       "      <td>E000067</td>\n",
       "      <td>1</td>\n",
       "      <td>P006193</td>\n",
       "      <td>a_remplacer</td>\n",
       "      <td>12.186388</td>\n",
       "    </tr>\n",
       "    <tr>\n",
       "      <th>466</th>\n",
       "      <td>E000067</td>\n",
       "      <td>1</td>\n",
       "      <td>P002851</td>\n",
       "      <td>a_remplacer</td>\n",
       "      <td>10.803202</td>\n",
       "    </tr>\n",
       "  </tbody>\n",
       "</table>\n",
       "</div>"
      ],
      "text/plain": [
       "    id_batiment  nb_maisons infra_id   infra_type   longueur\n",
       "10      E000003           1  P007113  a_remplacer  12.193509\n",
       "11      E000003           1  P007984  a_remplacer  30.057598\n",
       "12      E000003           1  P007823  a_remplacer  12.290283\n",
       "465     E000067           1  P006193  a_remplacer  12.186388\n",
       "466     E000067           1  P002851  a_remplacer  10.803202"
      ]
     },
     "execution_count": 3,
     "metadata": {},
     "output_type": "execute_result"
    }
   ],
   "source": [
    "#Etape 1 : Importer la dataset en créer une dataframe\n",
    "import pandas as pd\n",
    "df = pd.read_csv(\"./Dataset/reseau_en_arbre.csv\")\n",
    "\n",
    "#Création d'un Dataframe ne contenant uniquement les informations dont infra_type = a_remplacer\n",
    "df = df[df[\"infra_type\"] == \"a_remplacer\"]\n",
    "df.head()"
   ]
  },
  {
   "cell_type": "code",
   "execution_count": null,
   "metadata": {},
   "outputs": [],
   "source": []
  }
 ],
 "metadata": {
  "kernelspec": {
   "display_name": "EC_env",
   "language": "python",
   "name": "ec_env"
  },
  "language_info": {
   "codemirror_mode": {
    "name": "ipython",
    "version": 3
   },
   "file_extension": ".py",
   "mimetype": "text/x-python",
   "name": "python",
   "nbconvert_exporter": "python",
   "pygments_lexer": "ipython3",
   "version": "3.12.0"
  }
 },
 "nbformat": 4,
 "nbformat_minor": 4
}
